{
  "nbformat": 4,
  "nbformat_minor": 0,
  "metadata": {
    "colab": {
      "name": "Untitled7.ipynb",
      "provenance": []
    },
    "kernelspec": {
      "name": "python3",
      "display_name": "Python 3"
    }
  },
  "cells": [
    {
      "cell_type": "code",
      "metadata": {
        "id": "zahhJZG_47DV",
        "colab_type": "code",
        "colab": {
          "base_uri": "https://localhost:8080/",
          "height": 188
        },
        "outputId": "a7f3c788-92f5-4149-9a87-c8416c0f89ed"
      },
      "source": [
        "!pip install docx2txt"
      ],
      "execution_count": 4,
      "outputs": [
        {
          "output_type": "stream",
          "text": [
            "Collecting docx2txt\n",
            "  Downloading https://files.pythonhosted.org/packages/7d/7d/60ee3f2b16d9bfdfa72e8599470a2c1a5b759cb113c6fe1006be28359327/docx2txt-0.8.tar.gz\n",
            "Building wheels for collected packages: docx2txt\n",
            "  Building wheel for docx2txt (setup.py) ... \u001b[?25l\u001b[?25hdone\n",
            "  Created wheel for docx2txt: filename=docx2txt-0.8-cp36-none-any.whl size=3965 sha256=53313cddf62c1ff3b0ee2710347c779a645df250987ce5764ae056419c51647b\n",
            "  Stored in directory: /root/.cache/pip/wheels/b2/1f/26/a051209bbb77fc6bcfae2bb7e01fa0ff941b82292ab084d596\n",
            "Successfully built docx2txt\n",
            "Installing collected packages: docx2txt\n",
            "Successfully installed docx2txt-0.8\n"
          ],
          "name": "stdout"
        }
      ]
    },
    {
      "cell_type": "code",
      "metadata": {
        "id": "OnVnR2V33kUH",
        "colab_type": "code",
        "colab": {
          "base_uri": "https://localhost:8080/",
          "height": 353
        },
        "outputId": "74c05454-fd74-4bdc-91bf-0395f2fce5a4"
      },
      "source": [
        "import docx2txt\n",
        "import re\n",
        "\n",
        "\n",
        "my_text = docx2txt.process(\"/content/Use.docx\")\n",
        "\n",
        "pattern = re.compile(r'[a-zA-Z0-9-\\.]+@[a-zA-Z-\\.]*\\.(com|edu|net)')\n",
        "\n",
        "matches = pattern.finditer(my_text)\n",
        "\n",
        "for match in matches:\n",
        "    print(match.group(0))"
      ],
      "execution_count": 7,
      "outputs": [
        {
          "output_type": "stream",
          "text": [
            "email@example.com\n",
            "firstname.lastname@example.com\n",
            "email@subdomain.example.com\n",
            "lastname@example.com\n",
            "1234567890@example.com\n",
            "email@example-one.com\n",
            "firstname-lastname@example.com\n",
            ".unusual.com@example.com\n",
            ".unusual@strange.example.com\n",
            "email@example.com\n",
            "example@example.com\n",
            ".email@example.com\n",
            "email.@example.com\n",
            "email..email@example.com\n",
            "email@example.com\n",
            "email@-example.com\n",
            "email@example..com\n",
            "Abc..123@example.com\n",
            "right@example.com\n",
            "allowed@example.com\n"
          ],
          "name": "stdout"
        }
      ]
    }
  ]
}